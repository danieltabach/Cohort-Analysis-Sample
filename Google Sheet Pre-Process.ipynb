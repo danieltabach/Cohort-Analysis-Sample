{
 "cells": [
  {
   "cell_type": "code",
   "execution_count": 1,
   "id": "ca7ed732",
   "metadata": {},
   "outputs": [],
   "source": [
    "#!pip install gspread oauth2client\n",
    "import pandas as pd"
   ]
  },
  {
   "cell_type": "code",
   "execution_count": 2,
   "id": "bb6ca0c8",
   "metadata": {},
   "outputs": [],
   "source": [
    "import gspread\n",
    "from oauth2client.service_account import ServiceAccountCredentials\n",
    "from Customer_DeDupe import process_customers"
   ]
  },
  {
   "cell_type": "code",
   "execution_count": null,
   "id": "5eb006ee",
   "metadata": {},
   "outputs": [],
   "source": [
    "scope = [\"https://spreadsheets.google.com/feeds\", \"https://www.googleapis.com/auth/drive\"]\n",
    "creds = ServiceAccountCredentials.from_json_keyfile_name('...', scope)\n",
    "client = gspread.authorize(creds)"
   ]
  },
  {
   "cell_type": "code",
   "execution_count": null,
   "id": "bebf6c62",
   "metadata": {},
   "outputs": [],
   "source": [
    "spreadsheet = client.open_by_url('...')\n"
   ]
  },
  {
   "cell_type": "code",
   "execution_count": 6,
   "id": "0b16a4b0",
   "metadata": {},
   "outputs": [],
   "source": [
    "worksheet = spreadsheet.worksheet('QB Data')"
   ]
  },
  {
   "cell_type": "code",
   "execution_count": 7,
   "id": "e67f049a",
   "metadata": {},
   "outputs": [
    {
     "name": "stdout",
     "output_type": "stream",
     "text": [
      "The worksheet 'QB Data' has 12481 rows.\n",
      "The worksheet 'QB Data' has 12481 rows with data.\n"
     ]
    }
   ],
   "source": [
    "num_rows = worksheet.row_count\n",
    "print(f\"The worksheet 'QB Data' has {num_rows} rows.\")\n",
    "all_values = worksheet.get_all_values()  # This returns a list of lists\n",
    "num_rows_with_data = len(all_values)\n",
    "print(f\"The worksheet 'QB Data' has {num_rows_with_data} rows with data.\")\n"
   ]
  },
  {
   "cell_type": "code",
   "execution_count": 8,
   "id": "e3c48ee4",
   "metadata": {},
   "outputs": [
    {
     "name": "stdout",
     "output_type": "stream",
     "text": [
      "(dataframe, column_name, manual_changes_file=None, manual_changes_worksheet_name=None, spreadsheet=None, output_worksheet_name=None)\n"
     ]
    }
   ],
   "source": [
    "from inspect import signature\n",
    "print(signature(process_customers))\n"
   ]
  },
  {
   "cell_type": "code",
   "execution_count": 12,
   "id": "0ee27bf4",
   "metadata": {
    "scrolled": true
   },
   "outputs": [
    {
     "name": "stdout",
     "output_type": "stream",
     "text": [
      "Columns in df: Index(['Customer', 'UNCLEAN_CUSTOMER', 'CLEAN_CUSTOMER', 'MATCHED_NAME',\n",
      "       'SIMILARITY_SCORE'],\n",
      "      dtype='object')\n",
      "Columns in manual_changes_df: Index(['UNCLEAN_CUSTOMER', 'CLEAN_CUSTOMER', 'MATCHED_NAME',\n",
      "       'SIMILARITY_SCORE'],\n",
      "      dtype='object')\n",
      "Columns in df: Index(['Customer', 'UNCLEAN_CUSTOMER', 'CLEAN_CUSTOMER', 'MATCHED_NAME',\n",
      "       'SIMILARITY_SCORE'],\n",
      "      dtype='object')\n"
     ]
    },
    {
     "name": "stderr",
     "output_type": "stream",
     "text": [
      "C:\\Users\\Danny\\anaconda3\\lib\\site-packages\\gspread\\worksheet.py:1069: UserWarning: [Deprecated][in version 6.0.0]: method signature will change to: 'Worksheet.update(value = [[]], range_name=)' arguments 'range_name' and 'values' will swap, values will be mandatory of type: 'list(list(...))'\n",
      "  warnings.warn(\n"
     ]
    }
   ],
   "source": [
    "\n",
    "unclean_names_list = worksheet.col_values(1)\n",
    "unclean_names_df = pd.DataFrame({ 'Customer': unclean_names_list })\n",
    "clean_names = process_customers(unclean_names_df, column_name='Customer', \n",
    "                                manual_changes_worksheet_name='Manual_Change_List', \n",
    "                                spreadsheet=spreadsheet, \n",
    "                                output_worksheet_name='CLEAN_CUSTOMERS')"
   ]
  },
  {
   "cell_type": "code",
   "execution_count": null,
   "id": "3d92de47",
   "metadata": {},
   "outputs": [],
   "source": []
  }
 ],
 "metadata": {
  "kernelspec": {
   "display_name": "Python 3",
   "language": "python",
   "name": "python3"
  },
  "language_info": {
   "codemirror_mode": {
    "name": "ipython",
    "version": 3
   },
   "file_extension": ".py",
   "mimetype": "text/x-python",
   "name": "python",
   "nbconvert_exporter": "python",
   "pygments_lexer": "ipython3",
   "version": "3.11.9"
  }
 },
 "nbformat": 4,
 "nbformat_minor": 5
}
